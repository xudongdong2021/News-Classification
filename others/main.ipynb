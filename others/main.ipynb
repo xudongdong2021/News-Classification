{
 "cells": [
  {
   "cell_type": "code",
   "execution_count": 25,
   "metadata": {
    "collapsed": true,
    "ExecuteTime": {
     "end_time": "2023-08-23T02:29:06.142810500Z",
     "start_time": "2023-08-23T02:29:06.062812600Z"
    }
   },
   "outputs": [],
   "source": [
    "import torch\n",
    "import torch.nn as nn\n",
    "import torch.nn.functional as F\n",
    "from torch.utils.data import Dataset, DataLoader\n",
    "\n",
    "from sklearn.model_selection import train_test_split\n",
    "from sklearn.preprocessing import LabelEncoder\n",
    "\n",
    "import pandas as pd\n",
    "import numpy as np\n",
    "from collections import Counter\n",
    "import spacy\n",
    "nlp = spacy.load(\"en_core_web_sm\")\n",
    "from nltk.tokenize import word_tokenize\n"
   ]
  },
  {
   "cell_type": "code",
   "execution_count": 26,
   "outputs": [],
   "source": [
    "# 设置参数\n",
    "num_filters = 100\n",
    "filter_sizes = [3, 4, 5]\n",
    "num_classes = 2\n",
    "embedding_size = 128\n",
    "sequence_length = 500\n",
    "batch_size = 64\n",
    "learning_rate = 0.0002\n",
    "num_epochs = 10\n",
    "vocab_size = 5000"
   ],
   "metadata": {
    "collapsed": false,
    "ExecuteTime": {
     "end_time": "2023-08-23T02:29:06.144188500Z",
     "start_time": "2023-08-23T02:29:06.077775400Z"
    }
   }
  },
  {
   "cell_type": "code",
   "execution_count": 27,
   "outputs": [],
   "source": [
    "# 加载数据\n",
    "def load_data(file_path):\n",
    "    df = pd.read_csv(file_path,usecols=['content','label'])\n",
    "    return df\n",
    "\n",
    "# 分词和生成词汇表\n",
    "def tokenize_and_build_vocab(df):\n",
    "    tokens = []\n",
    "    for text in df['content']:\n",
    "        tokens.extend([token.text for token in nlp(text)])\n",
    "\n",
    "    word_counter = Counter(tokens)\n",
    "    vocab = sorted(word_counter, key=word_counter.get, reverse=True)[:vocab_size-2]\n",
    "    vocab.append('<UNK>')\n",
    "    vocab.append('<PAD>')\n",
    "\n",
    "    word_index = {word: i for i, word in enumerate(vocab)}\n",
    "    return word_index"
   ],
   "metadata": {
    "collapsed": false,
    "ExecuteTime": {
     "end_time": "2023-08-23T02:29:06.165793Z",
     "start_time": "2023-08-23T02:29:06.094825300Z"
    }
   }
  },
  {
   "cell_type": "code",
   "execution_count": 28,
   "outputs": [],
   "source": [
    "# 创建数据集\n",
    "class NewsDataset(Dataset):\n",
    "    def __init__(self, texts, word_index, labels=None):\n",
    "        self.texts = texts\n",
    "        self.labels = labels\n",
    "        self.word_index = word_index\n",
    "\n",
    "    def __len__(self):\n",
    "        return len(self.texts)\n",
    "\n",
    "    def __getitem__(self, idx):\n",
    "        text = self.texts.iloc[idx]\n",
    "        tokens = word_tokenize(text)\n",
    "        sequence = [self.word_index.get(token, self.word_index['<UNK>']) for token in tokens]\n",
    "        sequence = sequence[:sequence_length] if len(sequence) > sequence_length else sequence + [self.word_index['<PAD>']] * (sequence_length - len(sequence))\n",
    "        if self.labels is not None:\n",
    "            return np.array(sequence), self.labels[idx]\n",
    "        else:\n",
    "            return np.array(sequence)"
   ],
   "metadata": {
    "collapsed": false,
    "ExecuteTime": {
     "end_time": "2023-08-23T02:29:06.170788400Z",
     "start_time": "2023-08-23T02:29:06.112849Z"
    }
   }
  },
  {
   "cell_type": "code",
   "execution_count": 29,
   "outputs": [],
   "source": [
    "# 创建TextCNN模型\n",
    "class TextCNN(nn.Module):\n",
    "    def __init__(self):\n",
    "        super(TextCNN, self).__init__()\n",
    "        self.num_filters_total = num_filters * len(filter_sizes)\n",
    "        self.W = nn.Embedding(vocab_size, embedding_size)\n",
    "        self.Weight = nn.Linear(self.num_filters_total, num_classes, bias=False)\n",
    "        self.Bias = nn.Parameter(torch.ones([num_classes]))\n",
    "        self.filter_list = nn.ModuleList([nn.Conv2d(1, num_filters, (size, embedding_size)) for size in filter_sizes])\n",
    "\n",
    "    def forward(self, X):\n",
    "        embedded_chars = self.W(X)\n",
    "        embedded_chars = embedded_chars.unsqueeze(1)\n",
    "\n",
    "        pooled_outputs = []\n",
    "        for i, conv in enumerate(self.filter_list):\n",
    "            h = F.relu(conv(embedded_chars))\n",
    "            mp = nn.MaxPool2d((sequence_length - filter_sizes[i] + 1, 1))\n",
    "            pooled = mp(h).permute(0, 3, 2, 1)\n",
    "            pooled_outputs.append(pooled)\n",
    "\n",
    "        h_pool = torch.cat(pooled_outputs, len(filter_sizes))\n",
    "        h_pool_flat = torch.reshape(h_pool, [-1, self.num_filters_total])\n",
    "        model = self.Weight(h_pool_flat) + self.Bias\n",
    "        return model"
   ],
   "metadata": {
    "collapsed": false,
    "ExecuteTime": {
     "end_time": "2023-08-23T02:29:06.170788400Z",
     "start_time": "2023-08-23T02:29:06.129592400Z"
    }
   }
  },
  {
   "cell_type": "code",
   "execution_count": 30,
   "outputs": [],
   "source": [
    "# 加载数据\n",
    "train_df = load_data(\"data_process/clean_data.csv\")\n",
    "\n",
    "# 标签编码\n",
    "le = LabelEncoder()\n",
    "train_df['label'] = le.fit_transform(train_df['label'])"
   ],
   "metadata": {
    "collapsed": false,
    "ExecuteTime": {
     "end_time": "2023-08-23T02:29:06.436421300Z",
     "start_time": "2023-08-23T02:29:06.140802700Z"
    }
   }
  },
  {
   "cell_type": "code",
   "execution_count": 31,
   "outputs": [],
   "source": [
    "# 分词和生成词汇表\n",
    "word_index = tokenize_and_build_vocab(train_df)"
   ],
   "metadata": {
    "collapsed": false,
    "ExecuteTime": {
     "end_time": "2023-08-23T02:29:20.163122600Z",
     "start_time": "2023-08-23T02:29:06.438421300Z"
    }
   }
  },
  {
   "cell_type": "code",
   "execution_count": 32,
   "outputs": [],
   "source": [
    "# 数据集分割\n",
    "train_texts, valid_texts, train_labels, valid_labels = train_test_split(train_df['content'], train_df['label'], test_size=0.2, random_state=42)\n",
    "\n",
    "# 重置索引\n",
    "train_texts = train_texts.reset_index(drop=True)\n",
    "valid_texts = valid_texts.reset_index(drop=True)\n",
    "train_labels = train_labels.reset_index(drop=True)\n",
    "valid_labels = valid_labels.reset_index(drop=True)\n",
    "\n",
    "# 创建数据集\n",
    "train_dataset = NewsDataset(train_texts, word_index, train_labels)\n",
    "valid_dataset = NewsDataset(valid_texts, word_index, valid_labels)\n",
    "\n",
    "# 创建数据加载器\n",
    "train_loader = DataLoader(train_dataset, batch_size=batch_size, shuffle=True)\n",
    "valid_loader = DataLoader(valid_dataset, batch_size=batch_size, shuffle=False)"
   ],
   "metadata": {
    "collapsed": false,
    "ExecuteTime": {
     "end_time": "2023-08-23T02:29:20.196932100Z",
     "start_time": "2023-08-23T02:29:20.170121500Z"
    }
   }
  },
  {
   "cell_type": "code",
   "execution_count": 33,
   "outputs": [],
   "source": [
    "# 创建模型\n",
    "model = TextCNN()\n",
    "if torch.cuda.is_available():\n",
    "    model.cuda()\n",
    "\n",
    "# 定义损失函数和优化器\n",
    "criterion = nn.CrossEntropyLoss()\n",
    "optimizer = torch.optim.Adam(model.parameters(), lr=learning_rate)"
   ],
   "metadata": {
    "collapsed": false,
    "ExecuteTime": {
     "end_time": "2023-08-23T02:29:20.229527900Z",
     "start_time": "2023-08-23T02:29:20.198931300Z"
    }
   }
  },
  {
   "cell_type": "code",
   "execution_count": 34,
   "outputs": [
    {
     "name": "stdout",
     "output_type": "stream",
     "text": [
      "Epoch 1/10, Accuracy on validation set: 0.8096646942800789\n",
      "Epoch 2/10, Accuracy on validation set: 0.8323471400394478\n",
      "Epoch 3/10, Accuracy on validation set: 0.8530571992110454\n",
      "Epoch 4/10, Accuracy on validation set: 0.8826429980276134\n",
      "Epoch 5/10, Accuracy on validation set: 0.8875739644970414\n",
      "Epoch 6/10, Accuracy on validation set: 0.8925049309664694\n",
      "Epoch 7/10, Accuracy on validation set: 0.9003944773175543\n",
      "Epoch 8/10, Accuracy on validation set: 0.9023668639053254\n",
      "Epoch 9/10, Accuracy on validation set: 0.9023668639053254\n",
      "Epoch 10/10, Accuracy on validation set: 0.9043392504930966\n"
     ]
    }
   ],
   "source": [
    "# 训练模型\n",
    "for epoch in range(num_epochs):\n",
    "    for i, (texts, labels) in enumerate(train_loader):\n",
    "        if torch.cuda.is_available():\n",
    "            texts = texts.long().cuda()\n",
    "            labels = labels.long().cuda()\n",
    "\n",
    "        outputs = model(texts)\n",
    "        loss = criterion(outputs, labels)\n",
    "\n",
    "        optimizer.zero_grad()\n",
    "        loss.backward()\n",
    "        optimizer.step()\n",
    "    # 每个epoch后在验证集上进行评估\n",
    "    correct = 0\n",
    "    total = 0\n",
    "    for texts, labels in valid_loader:\n",
    "        if torch.cuda.is_available():\n",
    "            texts = texts.long().cuda()\n",
    "            labels = labels.long().cuda()\n",
    "\n",
    "        outputs = model(texts)\n",
    "        _, predicted = torch.max(outputs.data, 1)\n",
    "        total += labels.size(0)\n",
    "        correct += (predicted == labels).sum().item()\n",
    "\n",
    "    print(f'Epoch {epoch+1}/{num_epochs}, Accuracy on validation set: {correct/total}')"
   ],
   "metadata": {
    "collapsed": false,
    "ExecuteTime": {
     "end_time": "2023-08-23T02:32:50.447151700Z",
     "start_time": "2023-08-23T02:29:20.233046600Z"
    }
   }
  },
  {
   "cell_type": "code",
   "execution_count": 35,
   "outputs": [],
   "source": [
    "# 加载测试集\n",
    "# test_df = load_data(\"/home/mw/input/news_data58668156/test_news.csv\")\n",
    "# test_dataset = NewsDataset(test_df['text'], word_index)\n",
    "# test_loader = DataLoader(test_dataset, batch_size=batch_size, shuffle=False)"
   ],
   "metadata": {
    "collapsed": false,
    "ExecuteTime": {
     "end_time": "2023-08-23T02:32:50.462399400Z",
     "start_time": "2023-08-23T02:32:50.450667600Z"
    }
   }
  },
  {
   "cell_type": "code",
   "execution_count": 36,
   "outputs": [],
   "source": [
    "# 在测试数据上进行预测\n",
    "# predictions = []\n",
    "# model.eval()\n",
    "# with torch.no_grad():\n",
    "#     for texts in test_loader:\n",
    "#         if torch.cuda.is_available():\n",
    "#             texts = texts.long().cuda()\n",
    "#         outputs = model(texts)\n",
    "#         _, predicted = torch.max(outputs.data, 1)\n",
    "#         predictions += predicted.cpu().numpy().tolist()\n",
    "#\n",
    "# # 将预测结果转换为所需的格式\n",
    "# predictions = ['FAKE' if prediction == 0 else 'REAL' for prediction in predictions]\n",
    "#\n",
    "# # 创建结果数据框并保存为csv文件\n",
    "# result_df = pd.DataFrame({\n",
    "#     'id': [str(i) for i in range(len(predictions))],\n",
    "#     'answer': predictions\n",
    "# })\n",
    "# print(result_df.head(2))\n",
    "# result_df.to_csv('answer6.csv', index=False, encoding='utf-8-sig')"
   ],
   "metadata": {
    "collapsed": false,
    "ExecuteTime": {
     "end_time": "2023-08-23T02:32:50.507199600Z",
     "start_time": "2023-08-23T02:32:50.466406600Z"
    }
   }
  },
  {
   "cell_type": "code",
   "execution_count": 36,
   "outputs": [],
   "source": [],
   "metadata": {
    "collapsed": false,
    "ExecuteTime": {
     "end_time": "2023-08-23T02:32:50.509762500Z",
     "start_time": "2023-08-23T02:32:50.483064600Z"
    }
   }
  }
 ],
 "metadata": {
  "kernelspec": {
   "display_name": "Python 3",
   "language": "python",
   "name": "python3"
  },
  "language_info": {
   "codemirror_mode": {
    "name": "ipython",
    "version": 2
   },
   "file_extension": ".py",
   "mimetype": "text/x-python",
   "name": "python",
   "nbconvert_exporter": "python",
   "pygments_lexer": "ipython2",
   "version": "2.7.6"
  }
 },
 "nbformat": 4,
 "nbformat_minor": 0
}
