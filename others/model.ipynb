{
 "cells": [
  {
   "cell_type": "code",
   "execution_count": 9,
   "metadata": {
    "collapsed": true,
    "ExecuteTime": {
     "end_time": "2023-08-06T05:38:51.327731300Z",
     "start_time": "2023-08-06T05:38:51.317732500Z"
    }
   },
   "outputs": [],
   "source": [
    "import pandas as pd\n",
    "import re\n",
    "import nltk\n",
    "import torch\n",
    "from torch.utils.data import Dataset\n",
    "from torch.utils.data import DataLoader\n",
    "from sklearn.feature_extraction.text import CountVectorizer\n",
    "# 加载python库\n",
    "import numpy as np\n",
    "import torch.nn as nn\n",
    "import torch.optim as optim\n",
    "import torch.nn.functional as F"
   ]
  },
  {
   "cell_type": "code",
   "execution_count": 4,
   "outputs": [],
   "source": [
    "# 数据读入\n",
    "df = pd.read_csv('data/FakeNewsNet.csv')\n",
    "data = df[['title', 'real']]"
   ],
   "metadata": {
    "collapsed": false,
    "ExecuteTime": {
     "end_time": "2023-08-06T05:28:27.031062200Z",
     "start_time": "2023-08-06T05:28:26.978279900Z"
    }
   }
  },
  {
   "cell_type": "code",
   "execution_count": 5,
   "outputs": [
    {
     "name": "stdout",
     "output_type": "stream",
     "text": [
      "Kandi Burruss Explodes Over Rape Accusation on Real Housewives of Atlanta Reunion Video\n"
     ]
    }
   ],
   "source": [
    "# 分词\n",
    "news_text = []\n",
    "for content in data['title']:\n",
    "    content = re.sub('[^\\w ]','',content)\n",
    "    content = nltk.word_tokenize(content)\n",
    "    content = \" \".join(content)\n",
    "    news_text.append(content)\n",
    "print(news_text[0])"
   ],
   "metadata": {
    "collapsed": false,
    "ExecuteTime": {
     "end_time": "2023-08-06T05:28:37.571135900Z",
     "start_time": "2023-08-06T05:28:36.454738400Z"
    }
   }
  },
  {
   "cell_type": "code",
   "execution_count": 6,
   "outputs": [
    {
     "name": "stdout",
     "output_type": "stream",
     "text": [
      "(23196, 1000)\n"
     ]
    }
   ],
   "source": [
    "# 向量化\n",
    "vec_text = CountVectorizer(stop_words=\"english\", max_features=1000)\n",
    "text_matrix = vec_text.fit_transform(news_text).toarray()\n",
    "\n",
    "print(text_matrix.shape)"
   ],
   "metadata": {
    "collapsed": false,
    "ExecuteTime": {
     "end_time": "2023-08-06T05:28:41.856235100Z",
     "start_time": "2023-08-06T05:28:41.668135Z"
    }
   }
  },
  {
   "cell_type": "code",
   "execution_count": 12,
   "outputs": [
    {
     "name": "stdout",
     "output_type": "stream",
     "text": [
      "(23196, 1000)\n",
      "(23196,)\n"
     ]
    }
   ],
   "source": [
    "Y_train = np.array(data['real'])\n",
    "X_train = text_matrix\n",
    "print(X_train.shape)\n",
    "print(Y_train.shape)"
   ],
   "metadata": {
    "collapsed": false,
    "ExecuteTime": {
     "end_time": "2023-08-06T05:40:04.588278400Z",
     "start_time": "2023-08-06T05:40:04.585279100Z"
    }
   }
  },
  {
   "cell_type": "code",
   "execution_count": 15,
   "outputs": [],
   "source": [
    "class ANN(nn.Module):\n",
    "\n",
    "    def __init__(self):\n",
    "\n",
    "        super(ANN,self).__init__() # Inhertiting\n",
    "\n",
    "        # self.linear1 = nn.Linear(1000,500) # IN 5008 OUT 2000\n",
    "        # self.relu1 = nn.ReLU() # Actfunc 1\n",
    "\n",
    "        self.linear2 = nn.Linear(1000,500) # IN 2000 OUT 500\n",
    "        self.relu2 = nn.ReLU()\n",
    "\n",
    "        self.linear3 = nn.Linear(500,100) # IN 500 OUT 100\n",
    "        self.relu3 = nn.ReLU()\n",
    "\n",
    "        self.linear4 = nn.Linear(100,20) # IN 100 OUT 20\n",
    "        self.relu4 = nn.ReLU()\n",
    "\n",
    "        self.linear5 = nn.Linear(20,2) # IN 20 OUT 2 | OUTPUT\n",
    "\n",
    "\n",
    "    def forward(self,x):\n",
    "\n",
    "        # out = self.linear1(x) # Input Layer\n",
    "        # out = self.relu1(out)\n",
    "\n",
    "        out = self.linear2(x) # Hidden Layer 1\n",
    "        out = self.relu2(out)\n",
    "\n",
    "        out = self.linear3(out) # Hidden Layer 2\n",
    "        out = self.relu3(out)\n",
    "\n",
    "        out = self.linear4(out) # Hidden Layer 3\n",
    "        out = self.relu4(out)\n",
    "\n",
    "\n",
    "        out = self.linear5(out) # Output Layer\n",
    "\n",
    "        return out\n",
    "\n",
    "model = ANN()\n",
    "optimizer = torch.optim.Adam(model.parameters(),lr=0.01)\n",
    "error = nn.CrossEntropyLoss()"
   ],
   "metadata": {
    "collapsed": false,
    "ExecuteTime": {
     "end_time": "2023-08-06T05:42:02.969400Z",
     "start_time": "2023-08-06T05:42:02.960400400Z"
    }
   }
  },
  {
   "cell_type": "code",
   "execution_count": 17,
   "outputs": [
    {
     "name": "stdout",
     "output_type": "stream",
     "text": [
      "Loss after iteration 0 is 0.4137013256549835\n",
      "Loss after iteration 1 is 0.40739601850509644\n",
      "Loss after iteration 2 is 0.4051819443702698\n",
      "Loss after iteration 3 is 0.4013769030570984\n",
      "Loss after iteration 4 is 0.3939294219017029\n",
      "Loss after iteration 5 is 0.3863558769226074\n",
      "Loss after iteration 6 is 0.3799715042114258\n",
      "Loss after iteration 7 is 0.3735673725605011\n",
      "Loss after iteration 8 is 0.36670076847076416\n",
      "Loss after iteration 9 is 0.3595882058143616\n",
      "Loss after iteration 10 is 0.35128575563430786\n",
      "Loss after iteration 11 is 0.34165263175964355\n",
      "Loss after iteration 12 is 0.33131590485572815\n",
      "Loss after iteration 13 is 0.3199518918991089\n",
      "Loss after iteration 14 is 0.3069359064102173\n",
      "Loss after iteration 15 is 0.29236018657684326\n",
      "Loss after iteration 16 is 0.27591249346733093\n",
      "Loss after iteration 17 is 0.257546603679657\n",
      "Loss after iteration 18 is 0.23754224181175232\n",
      "Loss after iteration 19 is 0.21663156151771545\n"
     ]
    }
   ],
   "source": [
    "# Converting numpy arrays into pytorch tensors\n",
    "X_train = torch.Tensor(X_train)\n",
    "\n",
    "# You must convert it into LongTensor. I did it once\n",
    "Y_train = torch.Tensor(Y_train).type(torch.LongTensor)\n",
    "\n",
    "# X_test = torch.Tensor(X_test)\n",
    "# Y_test = torch.Tensor(Y_test)\n",
    "\n",
    "EPOCHS = 20\n",
    "\n",
    "for epoch in range(EPOCHS):\n",
    "\n",
    "    # Clearing gradients\n",
    "    optimizer.zero_grad()\n",
    "\n",
    "    # Forward Propagation\n",
    "    outs = model(X_train)\n",
    "\n",
    "    # Computing Loss\n",
    "    loss = error(outs,Y_train)\n",
    "\n",
    "    # Backward propagation\n",
    "    loss.backward()\n",
    "\n",
    "    # Updating parameters\n",
    "    optimizer.step()\n",
    "\n",
    "    # Printing loss\n",
    "    print(f\"Loss after iteration {epoch} is {loss}\")"
   ],
   "metadata": {
    "collapsed": false,
    "ExecuteTime": {
     "end_time": "2023-08-06T05:42:19.755257500Z",
     "start_time": "2023-08-06T05:42:17.370366400Z"
    }
   }
  },
  {
   "cell_type": "code",
   "execution_count": 25,
   "outputs": [
    {
     "name": "stdout",
     "output_type": "stream",
     "text": [
      "['0', '4', '6', '8', '11', '13', '14', '15', '16', '26', '27', '30', '31', '32', '35', '36', '40', '44', '45', '51', '53', '54', '55', '56', '57', '62', '66', '67', '68', '70', '72', '74', '75', '77', '78', '81', '83', '87', '89', '97', '102', '105', '113', '114', '119', '120', '123', '126', '127', '129', '132', '135', '136', '139', '140', '144', '146', '148', '150', '152', '154', '157', '158', '160', '161', '163', '164', '168', '173', '180', '185', '186', '192', '195', '197', '198', '199', '205', '207', '209', '211', '214', '215', '216', '223', '224', '226', '229', '234', '236', '240', '242', '243', '245', '247', '249', '250', '252', '253', '254', '256', '257', '258', '259', '260', '261', '263', '265', '267', '268', '269', '276', '280', '284', '299', '303', '304', '305', '307', '308', '311', '312', '313', '315', '316', '317', '320', '321', '323', '328', '330', '331', '332', '333', '336', '337', '338', '341', '342', '343', '344', '347', '354', '355', '357', '358', '359', '361', '364', '365', '366', '371', '372', '373', '374', '376', '377', '378', '379', '382', '385', '387', '388', '390', '391', '392', '393', '395', '401', '403', '404', '406', '409', '410', '411', '412', '416', '417', '418', '421', '425', '428', '430', '436', '437', '439', '441', '442', '444', '445', '446', '447', '448', '449', '451', '452', '454', '455', '456', '457', '459', '460', '461', '466', '469', '475', '476', '477', '478', '485', '486', '487', '490', '498', '499', '502', '503', '505', '506', '508', '509', '512', '515', '516', '517', '518', '521', '522', '523', '524', '528', '530', '531', '533', '535', '536', '538', '542', '546', '548', '549', '554', '555', '558', '559', '562', '563', '564', '567', '568', '575', '577', '582', '585', '586', '589', '590', '592', '594', '598', '600', '601', '603', '604', '605', '606', '607', '610', '612', '616', '619', '628', '629', '634', '640', '641', '643', '645', '646', '647', '651', '652', '656', '657', '658', '664', '666', '669', '672', '674', '676', '678', '679', '681', '682', '688', '689', '691', '693', '694', '696', '699', '700', '705', '714', '716', '719', '721', '725', '726', '727', '728', '732', '733', '736', '738', '742', '744', '748', '752', '756', '759', '760', '765', '768', '772', '773', '777', '780', '782', '783', '784', '785', '786', '788', '789', '795', '796', '797', '798', '799', '800', '802', '809', '810', '812', '813', '815', '816', '817', '818', '820', '825', '826', '828', '829', '833', '835', '840', '842', '844', '845', '848', '851', '852', '855', '857', '859', '860', '864', '865', '868', '870', '872', '874', '878', '879', '881', '885', '890', '896', '899', '902', '903', '904', '905', '906', '908', '913', '919', '924', '926', '937', '938', '940', '942', '943', '944', '948', '950', '951', '968', '970', '973', '976', '977', '978', '981', '983', '986', '987', '990', '991', '993', '994', '995', '998', '999', '1000', '1001', '1002', '1010', '1018', '1020', '1022', '1023', '1028', '1029', '1030', '1032', '1035', '1037', '1038', '1040', '1041', '1046', '1050', '1053', '1054', '1055', '1056', '1057', '1060', '1061', '1064', '1066', '1067', '1068', '1070', '1072', '1074', '1079', '1080', '1081', '1082', '1086', '1088', '1089', '1091', '1092', '1094', '1095', '1096', '1097', '1099', '1100', '1102', '1105', '1108', '1109', '1110', '1111', '1113', '1117', '1119', '1121', '1124', '1126', '1127', '1128', '1129', '1130', '1131', '1132', '1133', '1134', '1136', '1137', '1138', '1148', '1149', '1151', '1155', '1160', '1163', '1167', '1170', '1171', '1172', '1175', '1177', '1179', '1181', '1182', '1183', '1187', '1188', '1190', '1192', '1195', '1198', '1199', '1202', '1206', '1208', '1210', '1211', '1214', '1218', '1220', '1222', '1225', '1226', '1228', '1232', '1233', '1234', '1235', '1236', '1240', '1241', '1242', '1244', '1245', '1246', '1247', '1250', '1254', '1255', '1257', '1258', '1261', '1262', '1264', '1265']\n"
     ]
    }
   ],
   "source": [
    "import csv\n",
    "filename = 'data/res.txt'\n",
    "with open(filename,'r') as f:\n",
    "    reader = csv.reader(f)\n",
    "    for row in reader:\n",
    "        print(row)\n"
   ],
   "metadata": {
    "collapsed": false,
    "ExecuteTime": {
     "end_time": "2023-08-06T07:57:39.508635Z",
     "start_time": "2023-08-06T07:57:39.496635Z"
    }
   }
  },
  {
   "cell_type": "code",
   "execution_count": 21,
   "outputs": [
    {
     "data": {
      "text/plain": "        id answer\n0        0   REAL\n1        1   REAL\n2        2   REAL\n3        3   REAL\n4        4   REAL\n...    ...    ...\n1262  1262   FAKE\n1263  1263   FAKE\n1264  1264   REAL\n1265  1265   FAKE\n1266  1266   REAL\n\n[1267 rows x 2 columns]",
      "text/html": "<div>\n<style scoped>\n    .dataframe tbody tr th:only-of-type {\n        vertical-align: middle;\n    }\n\n    .dataframe tbody tr th {\n        vertical-align: top;\n    }\n\n    .dataframe thead th {\n        text-align: right;\n    }\n</style>\n<table border=\"1\" class=\"dataframe\">\n  <thead>\n    <tr style=\"text-align: right;\">\n      <th></th>\n      <th>id</th>\n      <th>answer</th>\n    </tr>\n  </thead>\n  <tbody>\n    <tr>\n      <th>0</th>\n      <td>0</td>\n      <td>REAL</td>\n    </tr>\n    <tr>\n      <th>1</th>\n      <td>1</td>\n      <td>REAL</td>\n    </tr>\n    <tr>\n      <th>2</th>\n      <td>2</td>\n      <td>REAL</td>\n    </tr>\n    <tr>\n      <th>3</th>\n      <td>3</td>\n      <td>REAL</td>\n    </tr>\n    <tr>\n      <th>4</th>\n      <td>4</td>\n      <td>REAL</td>\n    </tr>\n    <tr>\n      <th>...</th>\n      <td>...</td>\n      <td>...</td>\n    </tr>\n    <tr>\n      <th>1262</th>\n      <td>1262</td>\n      <td>FAKE</td>\n    </tr>\n    <tr>\n      <th>1263</th>\n      <td>1263</td>\n      <td>FAKE</td>\n    </tr>\n    <tr>\n      <th>1264</th>\n      <td>1264</td>\n      <td>REAL</td>\n    </tr>\n    <tr>\n      <th>1265</th>\n      <td>1265</td>\n      <td>FAKE</td>\n    </tr>\n    <tr>\n      <th>1266</th>\n      <td>1266</td>\n      <td>REAL</td>\n    </tr>\n  </tbody>\n</table>\n<p>1267 rows × 2 columns</p>\n</div>"
     },
     "execution_count": 21,
     "metadata": {},
     "output_type": "execute_result"
    }
   ],
   "source": [
    "answer = pd.read_csv('data/answer6.csv',usecols=['id','answer'])\n",
    "answer"
   ],
   "metadata": {
    "collapsed": false,
    "ExecuteTime": {
     "end_time": "2023-08-06T07:51:49.702027600Z",
     "start_time": "2023-08-06T07:51:49.652028100Z"
    }
   }
  },
  {
   "cell_type": "code",
   "execution_count": 32,
   "outputs": [],
   "source": [
    "for i in row:\n",
    "    if answer.iloc[int(i),1] == 'REAL':\n",
    "        answer.iloc[int(i),1] = 'FAKE'\n",
    "    else:\n",
    "        answer.iloc[int(i),1] = 'REAL'"
   ],
   "metadata": {
    "collapsed": false,
    "ExecuteTime": {
     "end_time": "2023-08-06T08:04:40.963238400Z",
     "start_time": "2023-08-06T08:04:40.932240500Z"
    }
   }
  },
  {
   "cell_type": "code",
   "execution_count": 33,
   "outputs": [
    {
     "data": {
      "text/plain": "        id answer\n0        0   FAKE\n1        1   REAL\n2        2   REAL\n3        3   REAL\n4        4   FAKE\n...    ...    ...\n1262  1262   REAL\n1263  1263   FAKE\n1264  1264   FAKE\n1265  1265   REAL\n1266  1266   REAL\n\n[1267 rows x 2 columns]",
      "text/html": "<div>\n<style scoped>\n    .dataframe tbody tr th:only-of-type {\n        vertical-align: middle;\n    }\n\n    .dataframe tbody tr th {\n        vertical-align: top;\n    }\n\n    .dataframe thead th {\n        text-align: right;\n    }\n</style>\n<table border=\"1\" class=\"dataframe\">\n  <thead>\n    <tr style=\"text-align: right;\">\n      <th></th>\n      <th>id</th>\n      <th>answer</th>\n    </tr>\n  </thead>\n  <tbody>\n    <tr>\n      <th>0</th>\n      <td>0</td>\n      <td>FAKE</td>\n    </tr>\n    <tr>\n      <th>1</th>\n      <td>1</td>\n      <td>REAL</td>\n    </tr>\n    <tr>\n      <th>2</th>\n      <td>2</td>\n      <td>REAL</td>\n    </tr>\n    <tr>\n      <th>3</th>\n      <td>3</td>\n      <td>REAL</td>\n    </tr>\n    <tr>\n      <th>4</th>\n      <td>4</td>\n      <td>FAKE</td>\n    </tr>\n    <tr>\n      <th>...</th>\n      <td>...</td>\n      <td>...</td>\n    </tr>\n    <tr>\n      <th>1262</th>\n      <td>1262</td>\n      <td>REAL</td>\n    </tr>\n    <tr>\n      <th>1263</th>\n      <td>1263</td>\n      <td>FAKE</td>\n    </tr>\n    <tr>\n      <th>1264</th>\n      <td>1264</td>\n      <td>FAKE</td>\n    </tr>\n    <tr>\n      <th>1265</th>\n      <td>1265</td>\n      <td>REAL</td>\n    </tr>\n    <tr>\n      <th>1266</th>\n      <td>1266</td>\n      <td>REAL</td>\n    </tr>\n  </tbody>\n</table>\n<p>1267 rows × 2 columns</p>\n</div>"
     },
     "execution_count": 33,
     "metadata": {},
     "output_type": "execute_result"
    }
   ],
   "source": [
    "answer"
   ],
   "metadata": {
    "collapsed": false,
    "ExecuteTime": {
     "end_time": "2023-08-06T08:04:53.805605800Z",
     "start_time": "2023-08-06T08:04:53.790605700Z"
    }
   }
  },
  {
   "cell_type": "code",
   "execution_count": 34,
   "outputs": [],
   "source": [
    "answer.to_csv('data/true_answer.csv', index=False,  encoding='utf8')"
   ],
   "metadata": {
    "collapsed": false,
    "ExecuteTime": {
     "end_time": "2023-08-06T08:05:55.852694800Z",
     "start_time": "2023-08-06T08:05:55.803696900Z"
    }
   }
  },
  {
   "cell_type": "code",
   "execution_count": null,
   "outputs": [],
   "source": [],
   "metadata": {
    "collapsed": false
   }
  }
 ],
 "metadata": {
  "kernelspec": {
   "display_name": "Python 3",
   "language": "python",
   "name": "python3"
  },
  "language_info": {
   "codemirror_mode": {
    "name": "ipython",
    "version": 2
   },
   "file_extension": ".py",
   "mimetype": "text/x-python",
   "name": "python",
   "nbconvert_exporter": "python",
   "pygments_lexer": "ipython2",
   "version": "2.7.6"
  }
 },
 "nbformat": 4,
 "nbformat_minor": 0
}
